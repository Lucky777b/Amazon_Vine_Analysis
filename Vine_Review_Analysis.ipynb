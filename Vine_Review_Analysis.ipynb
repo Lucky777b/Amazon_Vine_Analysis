{
 "cells": [
  {
   "cell_type": "code",
   "execution_count": 42,
   "id": "30e1d46b",
   "metadata": {},
   "outputs": [],
   "source": [
    "# Import Dependencies \n",
    "import pandas as pd \n",
    "import numpy as np \n",
    "import matplotlib.pyplot as plt\n"
   ]
  },
  {
   "cell_type": "code",
   "execution_count": 3,
   "id": "149368e5",
   "metadata": {},
   "outputs": [
    {
     "data": {
      "text/html": [
       "<div>\n",
       "<style scoped>\n",
       "    .dataframe tbody tr th:only-of-type {\n",
       "        vertical-align: middle;\n",
       "    }\n",
       "\n",
       "    .dataframe tbody tr th {\n",
       "        vertical-align: top;\n",
       "    }\n",
       "\n",
       "    .dataframe thead th {\n",
       "        text-align: right;\n",
       "    }\n",
       "</style>\n",
       "<table border=\"1\" class=\"dataframe\">\n",
       "  <thead>\n",
       "    <tr style=\"text-align: right;\">\n",
       "      <th></th>\n",
       "      <th>RTIS3L2M1F5SM</th>\n",
       "      <th>5</th>\n",
       "      <th>0</th>\n",
       "      <th>0.1</th>\n",
       "      <th>N</th>\n",
       "      <th>Y</th>\n",
       "    </tr>\n",
       "  </thead>\n",
       "  <tbody>\n",
       "    <tr>\n",
       "      <th>0</th>\n",
       "      <td>R1ZV7R40OLHKD</td>\n",
       "      <td>5</td>\n",
       "      <td>0</td>\n",
       "      <td>0</td>\n",
       "      <td>N</td>\n",
       "      <td>Y</td>\n",
       "    </tr>\n",
       "    <tr>\n",
       "      <th>1</th>\n",
       "      <td>R3BH071QLH8QMC</td>\n",
       "      <td>1</td>\n",
       "      <td>0</td>\n",
       "      <td>1</td>\n",
       "      <td>N</td>\n",
       "      <td>Y</td>\n",
       "    </tr>\n",
       "    <tr>\n",
       "      <th>2</th>\n",
       "      <td>R127K9NTSXA2YH</td>\n",
       "      <td>3</td>\n",
       "      <td>0</td>\n",
       "      <td>0</td>\n",
       "      <td>N</td>\n",
       "      <td>Y</td>\n",
       "    </tr>\n",
       "    <tr>\n",
       "      <th>3</th>\n",
       "      <td>R32ZWUXDJPW27Q</td>\n",
       "      <td>4</td>\n",
       "      <td>0</td>\n",
       "      <td>0</td>\n",
       "      <td>N</td>\n",
       "      <td>Y</td>\n",
       "    </tr>\n",
       "    <tr>\n",
       "      <th>4</th>\n",
       "      <td>R3AQQ4YUKJWBA6</td>\n",
       "      <td>1</td>\n",
       "      <td>0</td>\n",
       "      <td>0</td>\n",
       "      <td>N</td>\n",
       "      <td>Y</td>\n",
       "    </tr>\n",
       "  </tbody>\n",
       "</table>\n",
       "</div>"
      ],
      "text/plain": [
       "    RTIS3L2M1F5SM  5  0  0.1  N  Y\n",
       "0   R1ZV7R40OLHKD  5  0    0  N  Y\n",
       "1  R3BH071QLH8QMC  1  0    1  N  Y\n",
       "2  R127K9NTSXA2YH  3  0    0  N  Y\n",
       "3  R32ZWUXDJPW27Q  4  0    0  N  Y\n",
       "4  R3AQQ4YUKJWBA6  1  0    0  N  Y"
      ]
     },
     "execution_count": 3,
     "metadata": {},
     "output_type": "execute_result"
    }
   ],
   "source": [
    "# Read in csv file and create DataFrame \n",
    "vine_df = pd.read_csv(\"./Resources/vine_table.csv\")\n",
    "vine_df.head()"
   ]
  },
  {
   "cell_type": "code",
   "execution_count": 5,
   "id": "1ef82e98",
   "metadata": {},
   "outputs": [
    {
     "data": {
      "text/html": [
       "<div>\n",
       "<style scoped>\n",
       "    .dataframe tbody tr th:only-of-type {\n",
       "        vertical-align: middle;\n",
       "    }\n",
       "\n",
       "    .dataframe tbody tr th {\n",
       "        vertical-align: top;\n",
       "    }\n",
       "\n",
       "    .dataframe thead th {\n",
       "        text-align: right;\n",
       "    }\n",
       "</style>\n",
       "<table border=\"1\" class=\"dataframe\">\n",
       "  <thead>\n",
       "    <tr style=\"text-align: right;\">\n",
       "      <th></th>\n",
       "      <th>review_id</th>\n",
       "      <th>star_rating</th>\n",
       "      <th>helpful_votes</th>\n",
       "      <th>total_votes</th>\n",
       "      <th>vine</th>\n",
       "      <th>verified_purchase</th>\n",
       "    </tr>\n",
       "  </thead>\n",
       "  <tbody>\n",
       "    <tr>\n",
       "      <th>0</th>\n",
       "      <td>R1ZV7R40OLHKD</td>\n",
       "      <td>5</td>\n",
       "      <td>0</td>\n",
       "      <td>0</td>\n",
       "      <td>N</td>\n",
       "      <td>Y</td>\n",
       "    </tr>\n",
       "    <tr>\n",
       "      <th>1</th>\n",
       "      <td>R3BH071QLH8QMC</td>\n",
       "      <td>1</td>\n",
       "      <td>0</td>\n",
       "      <td>1</td>\n",
       "      <td>N</td>\n",
       "      <td>Y</td>\n",
       "    </tr>\n",
       "    <tr>\n",
       "      <th>2</th>\n",
       "      <td>R127K9NTSXA2YH</td>\n",
       "      <td>3</td>\n",
       "      <td>0</td>\n",
       "      <td>0</td>\n",
       "      <td>N</td>\n",
       "      <td>Y</td>\n",
       "    </tr>\n",
       "    <tr>\n",
       "      <th>3</th>\n",
       "      <td>R32ZWUXDJPW27Q</td>\n",
       "      <td>4</td>\n",
       "      <td>0</td>\n",
       "      <td>0</td>\n",
       "      <td>N</td>\n",
       "      <td>Y</td>\n",
       "    </tr>\n",
       "    <tr>\n",
       "      <th>4</th>\n",
       "      <td>R3AQQ4YUKJWBA6</td>\n",
       "      <td>1</td>\n",
       "      <td>0</td>\n",
       "      <td>0</td>\n",
       "      <td>N</td>\n",
       "      <td>Y</td>\n",
       "    </tr>\n",
       "  </tbody>\n",
       "</table>\n",
       "</div>"
      ],
      "text/plain": [
       "        review_id  star_rating  helpful_votes  total_votes vine  \\\n",
       "0   R1ZV7R40OLHKD            5              0            0    N   \n",
       "1  R3BH071QLH8QMC            1              0            1    N   \n",
       "2  R127K9NTSXA2YH            3              0            0    N   \n",
       "3  R32ZWUXDJPW27Q            4              0            0    N   \n",
       "4  R3AQQ4YUKJWBA6            1              0            0    N   \n",
       "\n",
       "  verified_purchase  \n",
       "0                 Y  \n",
       "1                 Y  \n",
       "2                 Y  \n",
       "3                 Y  \n",
       "4                 Y  "
      ]
     },
     "execution_count": 5,
     "metadata": {},
     "output_type": "execute_result"
    }
   ],
   "source": [
    "# Rename columns because csv was not exported with column names from pgAdmin\n",
    "vine_df.rename(columns = {'RTIS3L2M1F5SM':'review_id',\n",
    "                          '5':'star_rating',\n",
    "                          '0':'helpful_votes',\n",
    "                          '0.1':'total_votes',\n",
    "                          'N':'vine',\n",
    "                          'Y':'verified_purchase'}, inplace=True)\n",
    "vine_df.head()"
   ]
  },
  {
   "cell_type": "code",
   "execution_count": 6,
   "id": "7908e41e",
   "metadata": {},
   "outputs": [
    {
     "name": "stdout",
     "output_type": "stream",
     "text": [
      "<class 'pandas.core.frame.DataFrame'>\n",
      "RangeIndex: 1785996 entries, 0 to 1785995\n",
      "Data columns (total 6 columns):\n",
      " #   Column             Dtype \n",
      "---  ------             ----- \n",
      " 0   review_id          object\n",
      " 1   star_rating        int64 \n",
      " 2   helpful_votes      int64 \n",
      " 3   total_votes        int64 \n",
      " 4   vine               object\n",
      " 5   verified_purchase  object\n",
      "dtypes: int64(3), object(3)\n",
      "memory usage: 81.8+ MB\n"
     ]
    }
   ],
   "source": [
    "vine_df.info()"
   ]
  },
  {
   "cell_type": "markdown",
   "id": "ffee6cbf",
   "metadata": {},
   "source": [
    "## Filter by Total Votes \n",
    "\n",
    "* Filter the data and create a new DataFrame or table to retrieve all the rows where the total_votes count is equal to or greater than 20\n",
    "* do this to pick reviews that are more likely to be helpful and to avoid having division by zero errors later on in code "
   ]
  },
  {
   "cell_type": "code",
   "execution_count": 10,
   "id": "4ea6f140",
   "metadata": {},
   "outputs": [
    {
     "data": {
      "text/html": [
       "<div>\n",
       "<style scoped>\n",
       "    .dataframe tbody tr th:only-of-type {\n",
       "        vertical-align: middle;\n",
       "    }\n",
       "\n",
       "    .dataframe tbody tr th {\n",
       "        vertical-align: top;\n",
       "    }\n",
       "\n",
       "    .dataframe thead th {\n",
       "        text-align: right;\n",
       "    }\n",
       "</style>\n",
       "<table border=\"1\" class=\"dataframe\">\n",
       "  <thead>\n",
       "    <tr style=\"text-align: right;\">\n",
       "      <th></th>\n",
       "      <th>review_id</th>\n",
       "      <th>star_rating</th>\n",
       "      <th>helpful_votes</th>\n",
       "      <th>total_votes</th>\n",
       "      <th>vine</th>\n",
       "      <th>verified_purchase</th>\n",
       "    </tr>\n",
       "  </thead>\n",
       "  <tbody>\n",
       "    <tr>\n",
       "      <th>54</th>\n",
       "      <td>R4PKAZRQJJX14</td>\n",
       "      <td>1</td>\n",
       "      <td>21</td>\n",
       "      <td>34</td>\n",
       "      <td>N</td>\n",
       "      <td>N</td>\n",
       "    </tr>\n",
       "    <tr>\n",
       "      <th>73</th>\n",
       "      <td>R2CI0Y288CC7E2</td>\n",
       "      <td>1</td>\n",
       "      <td>21</td>\n",
       "      <td>35</td>\n",
       "      <td>N</td>\n",
       "      <td>Y</td>\n",
       "    </tr>\n",
       "    <tr>\n",
       "      <th>208</th>\n",
       "      <td>R127WEQY2FM1T3</td>\n",
       "      <td>1</td>\n",
       "      <td>147</td>\n",
       "      <td>175</td>\n",
       "      <td>N</td>\n",
       "      <td>Y</td>\n",
       "    </tr>\n",
       "    <tr>\n",
       "      <th>288</th>\n",
       "      <td>R3EZ0EPYLDA34S</td>\n",
       "      <td>1</td>\n",
       "      <td>14</td>\n",
       "      <td>31</td>\n",
       "      <td>N</td>\n",
       "      <td>Y</td>\n",
       "    </tr>\n",
       "    <tr>\n",
       "      <th>482</th>\n",
       "      <td>R2FJ94555FZH32</td>\n",
       "      <td>2</td>\n",
       "      <td>55</td>\n",
       "      <td>60</td>\n",
       "      <td>N</td>\n",
       "      <td>N</td>\n",
       "    </tr>\n",
       "    <tr>\n",
       "      <th>...</th>\n",
       "      <td>...</td>\n",
       "      <td>...</td>\n",
       "      <td>...</td>\n",
       "      <td>...</td>\n",
       "      <td>...</td>\n",
       "      <td>...</td>\n",
       "    </tr>\n",
       "    <tr>\n",
       "      <th>1785687</th>\n",
       "      <td>R3GYUWLD9FWCPS</td>\n",
       "      <td>5</td>\n",
       "      <td>30</td>\n",
       "      <td>30</td>\n",
       "      <td>N</td>\n",
       "      <td>N</td>\n",
       "    </tr>\n",
       "    <tr>\n",
       "      <th>1785713</th>\n",
       "      <td>R26KS4Q9G04FIV</td>\n",
       "      <td>2</td>\n",
       "      <td>8</td>\n",
       "      <td>21</td>\n",
       "      <td>N</td>\n",
       "      <td>N</td>\n",
       "    </tr>\n",
       "    <tr>\n",
       "      <th>1785787</th>\n",
       "      <td>RU0J1ZMBCLD27</td>\n",
       "      <td>5</td>\n",
       "      <td>27</td>\n",
       "      <td>29</td>\n",
       "      <td>N</td>\n",
       "      <td>N</td>\n",
       "    </tr>\n",
       "    <tr>\n",
       "      <th>1785805</th>\n",
       "      <td>R1D69XH2THYKTG</td>\n",
       "      <td>5</td>\n",
       "      <td>18</td>\n",
       "      <td>20</td>\n",
       "      <td>N</td>\n",
       "      <td>N</td>\n",
       "    </tr>\n",
       "    <tr>\n",
       "      <th>1785934</th>\n",
       "      <td>R3U5C85OV6BUKM</td>\n",
       "      <td>4</td>\n",
       "      <td>38</td>\n",
       "      <td>43</td>\n",
       "      <td>N</td>\n",
       "      <td>N</td>\n",
       "    </tr>\n",
       "  </tbody>\n",
       "</table>\n",
       "<p>65379 rows × 6 columns</p>\n",
       "</div>"
      ],
      "text/plain": [
       "              review_id  star_rating  helpful_votes  total_votes vine  \\\n",
       "54        R4PKAZRQJJX14            1             21           34    N   \n",
       "73       R2CI0Y288CC7E2            1             21           35    N   \n",
       "208      R127WEQY2FM1T3            1            147          175    N   \n",
       "288      R3EZ0EPYLDA34S            1             14           31    N   \n",
       "482      R2FJ94555FZH32            2             55           60    N   \n",
       "...                 ...          ...            ...          ...  ...   \n",
       "1785687  R3GYUWLD9FWCPS            5             30           30    N   \n",
       "1785713  R26KS4Q9G04FIV            2              8           21    N   \n",
       "1785787   RU0J1ZMBCLD27            5             27           29    N   \n",
       "1785805  R1D69XH2THYKTG            5             18           20    N   \n",
       "1785934  R3U5C85OV6BUKM            4             38           43    N   \n",
       "\n",
       "        verified_purchase  \n",
       "54                      N  \n",
       "73                      Y  \n",
       "208                     Y  \n",
       "288                     Y  \n",
       "482                     N  \n",
       "...                   ...  \n",
       "1785687                 N  \n",
       "1785713                 N  \n",
       "1785787                 N  \n",
       "1785805                 N  \n",
       "1785934                 N  \n",
       "\n",
       "[65379 rows x 6 columns]"
      ]
     },
     "execution_count": 10,
     "metadata": {},
     "output_type": "execute_result"
    }
   ],
   "source": [
    "total_votes_df = vine_df[vine_df['total_votes'] >= 20]\n",
    "total_votes_df"
   ]
  },
  {
   "cell_type": "markdown",
   "id": "266cc330",
   "metadata": {},
   "source": [
    "## Filter Helpful Review Votes Greater Than 50% Over Total Review Votes\n",
    "\n",
    "* Filter new DataFrame to retrieve all rows where the number of <b> helpful_votes </b> divided by <b> total_votes</b> is equal to or greater than 50%"
   ]
  },
  {
   "cell_type": "code",
   "execution_count": 11,
   "id": "d82f3263",
   "metadata": {},
   "outputs": [
    {
     "data": {
      "text/html": [
       "<div>\n",
       "<style scoped>\n",
       "    .dataframe tbody tr th:only-of-type {\n",
       "        vertical-align: middle;\n",
       "    }\n",
       "\n",
       "    .dataframe tbody tr th {\n",
       "        vertical-align: top;\n",
       "    }\n",
       "\n",
       "    .dataframe thead th {\n",
       "        text-align: right;\n",
       "    }\n",
       "</style>\n",
       "<table border=\"1\" class=\"dataframe\">\n",
       "  <thead>\n",
       "    <tr style=\"text-align: right;\">\n",
       "      <th></th>\n",
       "      <th>review_id</th>\n",
       "      <th>star_rating</th>\n",
       "      <th>helpful_votes</th>\n",
       "      <th>total_votes</th>\n",
       "      <th>vine</th>\n",
       "      <th>verified_purchase</th>\n",
       "    </tr>\n",
       "  </thead>\n",
       "  <tbody>\n",
       "    <tr>\n",
       "      <th>54</th>\n",
       "      <td>R4PKAZRQJJX14</td>\n",
       "      <td>1</td>\n",
       "      <td>21</td>\n",
       "      <td>34</td>\n",
       "      <td>N</td>\n",
       "      <td>N</td>\n",
       "    </tr>\n",
       "    <tr>\n",
       "      <th>73</th>\n",
       "      <td>R2CI0Y288CC7E2</td>\n",
       "      <td>1</td>\n",
       "      <td>21</td>\n",
       "      <td>35</td>\n",
       "      <td>N</td>\n",
       "      <td>Y</td>\n",
       "    </tr>\n",
       "    <tr>\n",
       "      <th>208</th>\n",
       "      <td>R127WEQY2FM1T3</td>\n",
       "      <td>1</td>\n",
       "      <td>147</td>\n",
       "      <td>175</td>\n",
       "      <td>N</td>\n",
       "      <td>Y</td>\n",
       "    </tr>\n",
       "    <tr>\n",
       "      <th>482</th>\n",
       "      <td>R2FJ94555FZH32</td>\n",
       "      <td>2</td>\n",
       "      <td>55</td>\n",
       "      <td>60</td>\n",
       "      <td>N</td>\n",
       "      <td>N</td>\n",
       "    </tr>\n",
       "    <tr>\n",
       "      <th>536</th>\n",
       "      <td>R1U3AR67RE273L</td>\n",
       "      <td>1</td>\n",
       "      <td>51</td>\n",
       "      <td>65</td>\n",
       "      <td>N</td>\n",
       "      <td>Y</td>\n",
       "    </tr>\n",
       "    <tr>\n",
       "      <th>...</th>\n",
       "      <td>...</td>\n",
       "      <td>...</td>\n",
       "      <td>...</td>\n",
       "      <td>...</td>\n",
       "      <td>...</td>\n",
       "      <td>...</td>\n",
       "    </tr>\n",
       "    <tr>\n",
       "      <th>1785640</th>\n",
       "      <td>RCMDCDJR16IKW</td>\n",
       "      <td>4</td>\n",
       "      <td>27</td>\n",
       "      <td>30</td>\n",
       "      <td>N</td>\n",
       "      <td>N</td>\n",
       "    </tr>\n",
       "    <tr>\n",
       "      <th>1785687</th>\n",
       "      <td>R3GYUWLD9FWCPS</td>\n",
       "      <td>5</td>\n",
       "      <td>30</td>\n",
       "      <td>30</td>\n",
       "      <td>N</td>\n",
       "      <td>N</td>\n",
       "    </tr>\n",
       "    <tr>\n",
       "      <th>1785787</th>\n",
       "      <td>RU0J1ZMBCLD27</td>\n",
       "      <td>5</td>\n",
       "      <td>27</td>\n",
       "      <td>29</td>\n",
       "      <td>N</td>\n",
       "      <td>N</td>\n",
       "    </tr>\n",
       "    <tr>\n",
       "      <th>1785805</th>\n",
       "      <td>R1D69XH2THYKTG</td>\n",
       "      <td>5</td>\n",
       "      <td>18</td>\n",
       "      <td>20</td>\n",
       "      <td>N</td>\n",
       "      <td>N</td>\n",
       "    </tr>\n",
       "    <tr>\n",
       "      <th>1785934</th>\n",
       "      <td>R3U5C85OV6BUKM</td>\n",
       "      <td>4</td>\n",
       "      <td>38</td>\n",
       "      <td>43</td>\n",
       "      <td>N</td>\n",
       "      <td>N</td>\n",
       "    </tr>\n",
       "  </tbody>\n",
       "</table>\n",
       "<p>40565 rows × 6 columns</p>\n",
       "</div>"
      ],
      "text/plain": [
       "              review_id  star_rating  helpful_votes  total_votes vine  \\\n",
       "54        R4PKAZRQJJX14            1             21           34    N   \n",
       "73       R2CI0Y288CC7E2            1             21           35    N   \n",
       "208      R127WEQY2FM1T3            1            147          175    N   \n",
       "482      R2FJ94555FZH32            2             55           60    N   \n",
       "536      R1U3AR67RE273L            1             51           65    N   \n",
       "...                 ...          ...            ...          ...  ...   \n",
       "1785640   RCMDCDJR16IKW            4             27           30    N   \n",
       "1785687  R3GYUWLD9FWCPS            5             30           30    N   \n",
       "1785787   RU0J1ZMBCLD27            5             27           29    N   \n",
       "1785805  R1D69XH2THYKTG            5             18           20    N   \n",
       "1785934  R3U5C85OV6BUKM            4             38           43    N   \n",
       "\n",
       "        verified_purchase  \n",
       "54                      N  \n",
       "73                      Y  \n",
       "208                     Y  \n",
       "482                     N  \n",
       "536                     Y  \n",
       "...                   ...  \n",
       "1785640                 N  \n",
       "1785687                 N  \n",
       "1785787                 N  \n",
       "1785805                 N  \n",
       "1785934                 N  \n",
       "\n",
       "[40565 rows x 6 columns]"
      ]
     },
     "execution_count": 11,
     "metadata": {},
     "output_type": "execute_result"
    }
   ],
   "source": [
    "votes_greater50_percent = total_votes_df.loc[((total_votes_df[\"helpful_votes\"]) / (total_votes_df[\"total_votes\"])*100) >= 50]\n",
    "votes_greater50_percent"
   ]
  },
  {
   "cell_type": "markdown",
   "id": "04033d84",
   "metadata": {},
   "source": [
    "* (below) Alternative method to achieve same result using pandas "
   ]
  },
  {
   "cell_type": "code",
   "execution_count": 12,
   "id": "725ec255",
   "metadata": {},
   "outputs": [
    {
     "data": {
      "text/html": [
       "<div>\n",
       "<style scoped>\n",
       "    .dataframe tbody tr th:only-of-type {\n",
       "        vertical-align: middle;\n",
       "    }\n",
       "\n",
       "    .dataframe tbody tr th {\n",
       "        vertical-align: top;\n",
       "    }\n",
       "\n",
       "    .dataframe thead th {\n",
       "        text-align: right;\n",
       "    }\n",
       "</style>\n",
       "<table border=\"1\" class=\"dataframe\">\n",
       "  <thead>\n",
       "    <tr style=\"text-align: right;\">\n",
       "      <th></th>\n",
       "      <th>review_id</th>\n",
       "      <th>star_rating</th>\n",
       "      <th>helpful_votes</th>\n",
       "      <th>total_votes</th>\n",
       "      <th>vine</th>\n",
       "      <th>verified_purchase</th>\n",
       "    </tr>\n",
       "  </thead>\n",
       "  <tbody>\n",
       "    <tr>\n",
       "      <th>54</th>\n",
       "      <td>R4PKAZRQJJX14</td>\n",
       "      <td>1</td>\n",
       "      <td>21</td>\n",
       "      <td>34</td>\n",
       "      <td>N</td>\n",
       "      <td>N</td>\n",
       "    </tr>\n",
       "    <tr>\n",
       "      <th>73</th>\n",
       "      <td>R2CI0Y288CC7E2</td>\n",
       "      <td>1</td>\n",
       "      <td>21</td>\n",
       "      <td>35</td>\n",
       "      <td>N</td>\n",
       "      <td>Y</td>\n",
       "    </tr>\n",
       "    <tr>\n",
       "      <th>208</th>\n",
       "      <td>R127WEQY2FM1T3</td>\n",
       "      <td>1</td>\n",
       "      <td>147</td>\n",
       "      <td>175</td>\n",
       "      <td>N</td>\n",
       "      <td>Y</td>\n",
       "    </tr>\n",
       "    <tr>\n",
       "      <th>482</th>\n",
       "      <td>R2FJ94555FZH32</td>\n",
       "      <td>2</td>\n",
       "      <td>55</td>\n",
       "      <td>60</td>\n",
       "      <td>N</td>\n",
       "      <td>N</td>\n",
       "    </tr>\n",
       "    <tr>\n",
       "      <th>536</th>\n",
       "      <td>R1U3AR67RE273L</td>\n",
       "      <td>1</td>\n",
       "      <td>51</td>\n",
       "      <td>65</td>\n",
       "      <td>N</td>\n",
       "      <td>Y</td>\n",
       "    </tr>\n",
       "    <tr>\n",
       "      <th>...</th>\n",
       "      <td>...</td>\n",
       "      <td>...</td>\n",
       "      <td>...</td>\n",
       "      <td>...</td>\n",
       "      <td>...</td>\n",
       "      <td>...</td>\n",
       "    </tr>\n",
       "    <tr>\n",
       "      <th>1785640</th>\n",
       "      <td>RCMDCDJR16IKW</td>\n",
       "      <td>4</td>\n",
       "      <td>27</td>\n",
       "      <td>30</td>\n",
       "      <td>N</td>\n",
       "      <td>N</td>\n",
       "    </tr>\n",
       "    <tr>\n",
       "      <th>1785687</th>\n",
       "      <td>R3GYUWLD9FWCPS</td>\n",
       "      <td>5</td>\n",
       "      <td>30</td>\n",
       "      <td>30</td>\n",
       "      <td>N</td>\n",
       "      <td>N</td>\n",
       "    </tr>\n",
       "    <tr>\n",
       "      <th>1785787</th>\n",
       "      <td>RU0J1ZMBCLD27</td>\n",
       "      <td>5</td>\n",
       "      <td>27</td>\n",
       "      <td>29</td>\n",
       "      <td>N</td>\n",
       "      <td>N</td>\n",
       "    </tr>\n",
       "    <tr>\n",
       "      <th>1785805</th>\n",
       "      <td>R1D69XH2THYKTG</td>\n",
       "      <td>5</td>\n",
       "      <td>18</td>\n",
       "      <td>20</td>\n",
       "      <td>N</td>\n",
       "      <td>N</td>\n",
       "    </tr>\n",
       "    <tr>\n",
       "      <th>1785934</th>\n",
       "      <td>R3U5C85OV6BUKM</td>\n",
       "      <td>4</td>\n",
       "      <td>38</td>\n",
       "      <td>43</td>\n",
       "      <td>N</td>\n",
       "      <td>N</td>\n",
       "    </tr>\n",
       "  </tbody>\n",
       "</table>\n",
       "<p>40565 rows × 6 columns</p>\n",
       "</div>"
      ],
      "text/plain": [
       "              review_id  star_rating  helpful_votes  total_votes vine  \\\n",
       "54        R4PKAZRQJJX14            1             21           34    N   \n",
       "73       R2CI0Y288CC7E2            1             21           35    N   \n",
       "208      R127WEQY2FM1T3            1            147          175    N   \n",
       "482      R2FJ94555FZH32            2             55           60    N   \n",
       "536      R1U3AR67RE273L            1             51           65    N   \n",
       "...                 ...          ...            ...          ...  ...   \n",
       "1785640   RCMDCDJR16IKW            4             27           30    N   \n",
       "1785687  R3GYUWLD9FWCPS            5             30           30    N   \n",
       "1785787   RU0J1ZMBCLD27            5             27           29    N   \n",
       "1785805  R1D69XH2THYKTG            5             18           20    N   \n",
       "1785934  R3U5C85OV6BUKM            4             38           43    N   \n",
       "\n",
       "        verified_purchase  \n",
       "54                      N  \n",
       "73                      Y  \n",
       "208                     Y  \n",
       "482                     N  \n",
       "536                     Y  \n",
       "...                   ...  \n",
       "1785640                 N  \n",
       "1785687                 N  \n",
       "1785787                 N  \n",
       "1785805                 N  \n",
       "1785934                 N  \n",
       "\n",
       "[40565 rows x 6 columns]"
      ]
     },
     "execution_count": 12,
     "metadata": {},
     "output_type": "execute_result"
    }
   ],
   "source": [
    "votes = total_votes_df.loc[total_votes_df.helpful_votes / total_votes_df.total_votes >= 0.5]\n",
    "votes"
   ]
  },
  {
   "cell_type": "markdown",
   "id": "dd68af6b",
   "metadata": {},
   "source": [
    "## Filter Reviews Written as Part of Vine Program (Paid) \n",
    "\n",
    "* Filter the DataFrame to retrieve all the rows where a review was written as part of the Vine program (paid), vine == 'Y'.\n"
   ]
  },
  {
   "cell_type": "code",
   "execution_count": 13,
   "id": "9f27537a",
   "metadata": {},
   "outputs": [
    {
     "data": {
      "text/html": [
       "<div>\n",
       "<style scoped>\n",
       "    .dataframe tbody tr th:only-of-type {\n",
       "        vertical-align: middle;\n",
       "    }\n",
       "\n",
       "    .dataframe tbody tr th {\n",
       "        vertical-align: top;\n",
       "    }\n",
       "\n",
       "    .dataframe thead th {\n",
       "        text-align: right;\n",
       "    }\n",
       "</style>\n",
       "<table border=\"1\" class=\"dataframe\">\n",
       "  <thead>\n",
       "    <tr style=\"text-align: right;\">\n",
       "      <th></th>\n",
       "      <th>review_id</th>\n",
       "      <th>star_rating</th>\n",
       "      <th>helpful_votes</th>\n",
       "      <th>total_votes</th>\n",
       "      <th>vine</th>\n",
       "      <th>verified_purchase</th>\n",
       "    </tr>\n",
       "  </thead>\n",
       "  <tbody>\n",
       "    <tr>\n",
       "      <th>32610</th>\n",
       "      <td>R3KKUSGFZWSUIY</td>\n",
       "      <td>5</td>\n",
       "      <td>56</td>\n",
       "      <td>63</td>\n",
       "      <td>Y</td>\n",
       "      <td>N</td>\n",
       "    </tr>\n",
       "    <tr>\n",
       "      <th>33111</th>\n",
       "      <td>R10FO5UKKVZBK2</td>\n",
       "      <td>3</td>\n",
       "      <td>23</td>\n",
       "      <td>23</td>\n",
       "      <td>Y</td>\n",
       "      <td>N</td>\n",
       "    </tr>\n",
       "    <tr>\n",
       "      <th>69679</th>\n",
       "      <td>RM4KSGEOR7MU1</td>\n",
       "      <td>5</td>\n",
       "      <td>19</td>\n",
       "      <td>24</td>\n",
       "      <td>Y</td>\n",
       "      <td>N</td>\n",
       "    </tr>\n",
       "    <tr>\n",
       "      <th>155360</th>\n",
       "      <td>RG7VRMYLEXD23</td>\n",
       "      <td>4</td>\n",
       "      <td>22</td>\n",
       "      <td>26</td>\n",
       "      <td>Y</td>\n",
       "      <td>N</td>\n",
       "    </tr>\n",
       "    <tr>\n",
       "      <th>239326</th>\n",
       "      <td>R11O4YSCPSNL6L</td>\n",
       "      <td>3</td>\n",
       "      <td>20</td>\n",
       "      <td>26</td>\n",
       "      <td>Y</td>\n",
       "      <td>N</td>\n",
       "    </tr>\n",
       "    <tr>\n",
       "      <th>...</th>\n",
       "      <td>...</td>\n",
       "      <td>...</td>\n",
       "      <td>...</td>\n",
       "      <td>...</td>\n",
       "      <td>...</td>\n",
       "      <td>...</td>\n",
       "    </tr>\n",
       "    <tr>\n",
       "      <th>1456861</th>\n",
       "      <td>RLPTVGLU0JQIP</td>\n",
       "      <td>3</td>\n",
       "      <td>42</td>\n",
       "      <td>45</td>\n",
       "      <td>Y</td>\n",
       "      <td>N</td>\n",
       "    </tr>\n",
       "    <tr>\n",
       "      <th>1463332</th>\n",
       "      <td>R3ASJ9SENYYYI0</td>\n",
       "      <td>5</td>\n",
       "      <td>40</td>\n",
       "      <td>46</td>\n",
       "      <td>Y</td>\n",
       "      <td>N</td>\n",
       "    </tr>\n",
       "    <tr>\n",
       "      <th>1481161</th>\n",
       "      <td>RNU8PK609WT6P</td>\n",
       "      <td>4</td>\n",
       "      <td>347</td>\n",
       "      <td>362</td>\n",
       "      <td>Y</td>\n",
       "      <td>N</td>\n",
       "    </tr>\n",
       "    <tr>\n",
       "      <th>1506353</th>\n",
       "      <td>R8YT75NJW0CM9</td>\n",
       "      <td>4</td>\n",
       "      <td>37</td>\n",
       "      <td>40</td>\n",
       "      <td>Y</td>\n",
       "      <td>N</td>\n",
       "    </tr>\n",
       "    <tr>\n",
       "      <th>1506641</th>\n",
       "      <td>R2EDL85YVF0PRA</td>\n",
       "      <td>5</td>\n",
       "      <td>23</td>\n",
       "      <td>32</td>\n",
       "      <td>Y</td>\n",
       "      <td>N</td>\n",
       "    </tr>\n",
       "  </tbody>\n",
       "</table>\n",
       "<p>94 rows × 6 columns</p>\n",
       "</div>"
      ],
      "text/plain": [
       "              review_id  star_rating  helpful_votes  total_votes vine  \\\n",
       "32610    R3KKUSGFZWSUIY            5             56           63    Y   \n",
       "33111    R10FO5UKKVZBK2            3             23           23    Y   \n",
       "69679     RM4KSGEOR7MU1            5             19           24    Y   \n",
       "155360    RG7VRMYLEXD23            4             22           26    Y   \n",
       "239326   R11O4YSCPSNL6L            3             20           26    Y   \n",
       "...                 ...          ...            ...          ...  ...   \n",
       "1456861   RLPTVGLU0JQIP            3             42           45    Y   \n",
       "1463332  R3ASJ9SENYYYI0            5             40           46    Y   \n",
       "1481161   RNU8PK609WT6P            4            347          362    Y   \n",
       "1506353   R8YT75NJW0CM9            4             37           40    Y   \n",
       "1506641  R2EDL85YVF0PRA            5             23           32    Y   \n",
       "\n",
       "        verified_purchase  \n",
       "32610                   N  \n",
       "33111                   N  \n",
       "69679                   N  \n",
       "155360                  N  \n",
       "239326                  N  \n",
       "...                   ...  \n",
       "1456861                 N  \n",
       "1463332                 N  \n",
       "1481161                 N  \n",
       "1506353                 N  \n",
       "1506641                 N  \n",
       "\n",
       "[94 rows x 6 columns]"
      ]
     },
     "execution_count": 13,
     "metadata": {},
     "output_type": "execute_result"
    }
   ],
   "source": [
    "vine_reviews_paid = votes.loc[votes[\"vine\"] == 'Y']\n",
    "vine_reviews_paid"
   ]
  },
  {
   "cell_type": "markdown",
   "id": "3ac0e6c4",
   "metadata": {},
   "source": [
    "## Filter Reviews Written as Part of Vine Program(Unpaid)\n",
    "\n",
    "* Filter the DataFrame to retrieve all the rows where the review was not part of the Vine program (unpaid), vine == 'N'."
   ]
  },
  {
   "cell_type": "code",
   "execution_count": 14,
   "id": "b4e11510",
   "metadata": {},
   "outputs": [
    {
     "data": {
      "text/html": [
       "<div>\n",
       "<style scoped>\n",
       "    .dataframe tbody tr th:only-of-type {\n",
       "        vertical-align: middle;\n",
       "    }\n",
       "\n",
       "    .dataframe tbody tr th {\n",
       "        vertical-align: top;\n",
       "    }\n",
       "\n",
       "    .dataframe thead th {\n",
       "        text-align: right;\n",
       "    }\n",
       "</style>\n",
       "<table border=\"1\" class=\"dataframe\">\n",
       "  <thead>\n",
       "    <tr style=\"text-align: right;\">\n",
       "      <th></th>\n",
       "      <th>review_id</th>\n",
       "      <th>star_rating</th>\n",
       "      <th>helpful_votes</th>\n",
       "      <th>total_votes</th>\n",
       "      <th>vine</th>\n",
       "      <th>verified_purchase</th>\n",
       "    </tr>\n",
       "  </thead>\n",
       "  <tbody>\n",
       "    <tr>\n",
       "      <th>54</th>\n",
       "      <td>R4PKAZRQJJX14</td>\n",
       "      <td>1</td>\n",
       "      <td>21</td>\n",
       "      <td>34</td>\n",
       "      <td>N</td>\n",
       "      <td>N</td>\n",
       "    </tr>\n",
       "    <tr>\n",
       "      <th>73</th>\n",
       "      <td>R2CI0Y288CC7E2</td>\n",
       "      <td>1</td>\n",
       "      <td>21</td>\n",
       "      <td>35</td>\n",
       "      <td>N</td>\n",
       "      <td>Y</td>\n",
       "    </tr>\n",
       "    <tr>\n",
       "      <th>208</th>\n",
       "      <td>R127WEQY2FM1T3</td>\n",
       "      <td>1</td>\n",
       "      <td>147</td>\n",
       "      <td>175</td>\n",
       "      <td>N</td>\n",
       "      <td>Y</td>\n",
       "    </tr>\n",
       "    <tr>\n",
       "      <th>482</th>\n",
       "      <td>R2FJ94555FZH32</td>\n",
       "      <td>2</td>\n",
       "      <td>55</td>\n",
       "      <td>60</td>\n",
       "      <td>N</td>\n",
       "      <td>N</td>\n",
       "    </tr>\n",
       "    <tr>\n",
       "      <th>536</th>\n",
       "      <td>R1U3AR67RE273L</td>\n",
       "      <td>1</td>\n",
       "      <td>51</td>\n",
       "      <td>65</td>\n",
       "      <td>N</td>\n",
       "      <td>Y</td>\n",
       "    </tr>\n",
       "    <tr>\n",
       "      <th>...</th>\n",
       "      <td>...</td>\n",
       "      <td>...</td>\n",
       "      <td>...</td>\n",
       "      <td>...</td>\n",
       "      <td>...</td>\n",
       "      <td>...</td>\n",
       "    </tr>\n",
       "    <tr>\n",
       "      <th>1785640</th>\n",
       "      <td>RCMDCDJR16IKW</td>\n",
       "      <td>4</td>\n",
       "      <td>27</td>\n",
       "      <td>30</td>\n",
       "      <td>N</td>\n",
       "      <td>N</td>\n",
       "    </tr>\n",
       "    <tr>\n",
       "      <th>1785687</th>\n",
       "      <td>R3GYUWLD9FWCPS</td>\n",
       "      <td>5</td>\n",
       "      <td>30</td>\n",
       "      <td>30</td>\n",
       "      <td>N</td>\n",
       "      <td>N</td>\n",
       "    </tr>\n",
       "    <tr>\n",
       "      <th>1785787</th>\n",
       "      <td>RU0J1ZMBCLD27</td>\n",
       "      <td>5</td>\n",
       "      <td>27</td>\n",
       "      <td>29</td>\n",
       "      <td>N</td>\n",
       "      <td>N</td>\n",
       "    </tr>\n",
       "    <tr>\n",
       "      <th>1785805</th>\n",
       "      <td>R1D69XH2THYKTG</td>\n",
       "      <td>5</td>\n",
       "      <td>18</td>\n",
       "      <td>20</td>\n",
       "      <td>N</td>\n",
       "      <td>N</td>\n",
       "    </tr>\n",
       "    <tr>\n",
       "      <th>1785934</th>\n",
       "      <td>R3U5C85OV6BUKM</td>\n",
       "      <td>4</td>\n",
       "      <td>38</td>\n",
       "      <td>43</td>\n",
       "      <td>N</td>\n",
       "      <td>N</td>\n",
       "    </tr>\n",
       "  </tbody>\n",
       "</table>\n",
       "<p>40471 rows × 6 columns</p>\n",
       "</div>"
      ],
      "text/plain": [
       "              review_id  star_rating  helpful_votes  total_votes vine  \\\n",
       "54        R4PKAZRQJJX14            1             21           34    N   \n",
       "73       R2CI0Y288CC7E2            1             21           35    N   \n",
       "208      R127WEQY2FM1T3            1            147          175    N   \n",
       "482      R2FJ94555FZH32            2             55           60    N   \n",
       "536      R1U3AR67RE273L            1             51           65    N   \n",
       "...                 ...          ...            ...          ...  ...   \n",
       "1785640   RCMDCDJR16IKW            4             27           30    N   \n",
       "1785687  R3GYUWLD9FWCPS            5             30           30    N   \n",
       "1785787   RU0J1ZMBCLD27            5             27           29    N   \n",
       "1785805  R1D69XH2THYKTG            5             18           20    N   \n",
       "1785934  R3U5C85OV6BUKM            4             38           43    N   \n",
       "\n",
       "        verified_purchase  \n",
       "54                      N  \n",
       "73                      Y  \n",
       "208                     Y  \n",
       "482                     N  \n",
       "536                     Y  \n",
       "...                   ...  \n",
       "1785640                 N  \n",
       "1785687                 N  \n",
       "1785787                 N  \n",
       "1785805                 N  \n",
       "1785934                 N  \n",
       "\n",
       "[40471 rows x 6 columns]"
      ]
     },
     "execution_count": 14,
     "metadata": {},
     "output_type": "execute_result"
    }
   ],
   "source": [
    "vine_reviews_unpaid = votes.loc[votes[\"vine\"] == \"N\"]\n",
    "vine_reviews_unpaid"
   ]
  },
  {
   "cell_type": "markdown",
   "id": "4b44aa90",
   "metadata": {},
   "source": [
    "## Total Number of Reviews "
   ]
  },
  {
   "cell_type": "code",
   "execution_count": 15,
   "id": "d0e09936",
   "metadata": {},
   "outputs": [
    {
     "data": {
      "text/plain": [
       "review_id            40565\n",
       "star_rating          40565\n",
       "helpful_votes        40565\n",
       "total_votes          40565\n",
       "vine                 40565\n",
       "verified_purchase    40565\n",
       "dtype: int64"
      ]
     },
     "execution_count": 15,
     "metadata": {},
     "output_type": "execute_result"
    }
   ],
   "source": [
    "# Count of total reviews\n",
    "votes.count()"
   ]
  },
  {
   "cell_type": "code",
   "execution_count": 48,
   "id": "ac0608de",
   "metadata": {},
   "outputs": [
    {
     "data": {
      "text/plain": [
       "94"
      ]
     },
     "execution_count": 48,
     "metadata": {},
     "output_type": "execute_result"
    }
   ],
   "source": [
    "# Count of total paid vine reviews\n",
    "paid_review = len(vine_reviews_paid)\n",
    "paid_review"
   ]
  },
  {
   "cell_type": "code",
   "execution_count": 49,
   "id": "c71a48f6",
   "metadata": {},
   "outputs": [
    {
     "data": {
      "text/plain": [
       "40471"
      ]
     },
     "execution_count": 49,
     "metadata": {},
     "output_type": "execute_result"
    }
   ],
   "source": [
    "# Count of total unpaid vine reviews \n",
    "unpaid_review = len(vine_reviews_unpaid)\n",
    "unpaid_review"
   ]
  },
  {
   "cell_type": "markdown",
   "id": "699cb30a",
   "metadata": {},
   "source": [
    "## Total Number of 5-Star Reviews "
   ]
  },
  {
   "cell_type": "code",
   "execution_count": 24,
   "id": "16e42d71",
   "metadata": {
    "scrolled": true
   },
   "outputs": [
    {
     "data": {
      "text/html": [
       "<div>\n",
       "<style scoped>\n",
       "    .dataframe tbody tr th:only-of-type {\n",
       "        vertical-align: middle;\n",
       "    }\n",
       "\n",
       "    .dataframe tbody tr th {\n",
       "        vertical-align: top;\n",
       "    }\n",
       "\n",
       "    .dataframe thead th {\n",
       "        text-align: right;\n",
       "    }\n",
       "</style>\n",
       "<table border=\"1\" class=\"dataframe\">\n",
       "  <thead>\n",
       "    <tr style=\"text-align: right;\">\n",
       "      <th></th>\n",
       "      <th>review_id</th>\n",
       "      <th>star_rating</th>\n",
       "      <th>helpful_votes</th>\n",
       "      <th>total_votes</th>\n",
       "      <th>vine</th>\n",
       "      <th>verified_purchase</th>\n",
       "    </tr>\n",
       "  </thead>\n",
       "  <tbody>\n",
       "    <tr>\n",
       "      <th>1401</th>\n",
       "      <td>R36O341WWXXKNP</td>\n",
       "      <td>5</td>\n",
       "      <td>28</td>\n",
       "      <td>31</td>\n",
       "      <td>N</td>\n",
       "      <td>N</td>\n",
       "    </tr>\n",
       "    <tr>\n",
       "      <th>2506</th>\n",
       "      <td>R29BOS5HMAY1LO</td>\n",
       "      <td>5</td>\n",
       "      <td>88</td>\n",
       "      <td>110</td>\n",
       "      <td>N</td>\n",
       "      <td>N</td>\n",
       "    </tr>\n",
       "    <tr>\n",
       "      <th>3931</th>\n",
       "      <td>RDX2ZZ46AM343</td>\n",
       "      <td>5</td>\n",
       "      <td>32</td>\n",
       "      <td>34</td>\n",
       "      <td>N</td>\n",
       "      <td>Y</td>\n",
       "    </tr>\n",
       "    <tr>\n",
       "      <th>4132</th>\n",
       "      <td>R60GI4Z1CNGGV</td>\n",
       "      <td>5</td>\n",
       "      <td>17</td>\n",
       "      <td>20</td>\n",
       "      <td>N</td>\n",
       "      <td>Y</td>\n",
       "    </tr>\n",
       "    <tr>\n",
       "      <th>5277</th>\n",
       "      <td>R2FAARI3JQO9XQ</td>\n",
       "      <td>5</td>\n",
       "      <td>29</td>\n",
       "      <td>30</td>\n",
       "      <td>N</td>\n",
       "      <td>Y</td>\n",
       "    </tr>\n",
       "    <tr>\n",
       "      <th>...</th>\n",
       "      <td>...</td>\n",
       "      <td>...</td>\n",
       "      <td>...</td>\n",
       "      <td>...</td>\n",
       "      <td>...</td>\n",
       "      <td>...</td>\n",
       "    </tr>\n",
       "    <tr>\n",
       "      <th>1785557</th>\n",
       "      <td>R2KWI1FUZLSYKA</td>\n",
       "      <td>5</td>\n",
       "      <td>50</td>\n",
       "      <td>59</td>\n",
       "      <td>N</td>\n",
       "      <td>N</td>\n",
       "    </tr>\n",
       "    <tr>\n",
       "      <th>1785613</th>\n",
       "      <td>R31UKJUAJNX7XX</td>\n",
       "      <td>5</td>\n",
       "      <td>35</td>\n",
       "      <td>50</td>\n",
       "      <td>N</td>\n",
       "      <td>N</td>\n",
       "    </tr>\n",
       "    <tr>\n",
       "      <th>1785687</th>\n",
       "      <td>R3GYUWLD9FWCPS</td>\n",
       "      <td>5</td>\n",
       "      <td>30</td>\n",
       "      <td>30</td>\n",
       "      <td>N</td>\n",
       "      <td>N</td>\n",
       "    </tr>\n",
       "    <tr>\n",
       "      <th>1785787</th>\n",
       "      <td>RU0J1ZMBCLD27</td>\n",
       "      <td>5</td>\n",
       "      <td>27</td>\n",
       "      <td>29</td>\n",
       "      <td>N</td>\n",
       "      <td>N</td>\n",
       "    </tr>\n",
       "    <tr>\n",
       "      <th>1785805</th>\n",
       "      <td>R1D69XH2THYKTG</td>\n",
       "      <td>5</td>\n",
       "      <td>18</td>\n",
       "      <td>20</td>\n",
       "      <td>N</td>\n",
       "      <td>N</td>\n",
       "    </tr>\n",
       "  </tbody>\n",
       "</table>\n",
       "<p>15711 rows × 6 columns</p>\n",
       "</div>"
      ],
      "text/plain": [
       "              review_id  star_rating  helpful_votes  total_votes vine  \\\n",
       "1401     R36O341WWXXKNP            5             28           31    N   \n",
       "2506     R29BOS5HMAY1LO            5             88          110    N   \n",
       "3931      RDX2ZZ46AM343            5             32           34    N   \n",
       "4132      R60GI4Z1CNGGV            5             17           20    N   \n",
       "5277     R2FAARI3JQO9XQ            5             29           30    N   \n",
       "...                 ...          ...            ...          ...  ...   \n",
       "1785557  R2KWI1FUZLSYKA            5             50           59    N   \n",
       "1785613  R31UKJUAJNX7XX            5             35           50    N   \n",
       "1785687  R3GYUWLD9FWCPS            5             30           30    N   \n",
       "1785787   RU0J1ZMBCLD27            5             27           29    N   \n",
       "1785805  R1D69XH2THYKTG            5             18           20    N   \n",
       "\n",
       "        verified_purchase  \n",
       "1401                    N  \n",
       "2506                    N  \n",
       "3931                    Y  \n",
       "4132                    Y  \n",
       "5277                    Y  \n",
       "...                   ...  \n",
       "1785557                 N  \n",
       "1785613                 N  \n",
       "1785687                 N  \n",
       "1785787                 N  \n",
       "1785805                 N  \n",
       "\n",
       "[15711 rows x 6 columns]"
      ]
     },
     "execution_count": 24,
     "metadata": {},
     "output_type": "execute_result"
    }
   ],
   "source": [
    "five_star_reviews = votes.loc[votes[\"star_rating\"] == 5]\n",
    "five_star_reviews\n"
   ]
  },
  {
   "cell_type": "code",
   "execution_count": 45,
   "id": "9e7a9d29",
   "metadata": {},
   "outputs": [
    {
     "data": {
      "text/plain": [
       "15711"
      ]
     },
     "execution_count": 45,
     "metadata": {},
     "output_type": "execute_result"
    }
   ],
   "source": [
    "five_star_total = len(five_star_reviews)\n",
    "five_star_total"
   ]
  },
  {
   "cell_type": "markdown",
   "id": "dfa5e013",
   "metadata": {},
   "source": [
    "## Comparing the Vine(Paid) and Non-Vine(Unpaid) Program"
   ]
  },
  {
   "cell_type": "markdown",
   "id": "856c24f8",
   "metadata": {},
   "source": [
    "### Paid 5 Star Review Count "
   ]
  },
  {
   "cell_type": "code",
   "execution_count": 33,
   "id": "6d06b15e",
   "metadata": {
    "scrolled": false
   },
   "outputs": [
    {
     "data": {
      "text/plain": [
       "review_id            48\n",
       "star_rating          48\n",
       "helpful_votes        48\n",
       "total_votes          48\n",
       "vine                 48\n",
       "verified_purchase    48\n",
       "dtype: int64"
      ]
     },
     "execution_count": 33,
     "metadata": {},
     "output_type": "execute_result"
    }
   ],
   "source": [
    "paid_5star = vine_reviews_paid.loc[vine_reviews_paid[\"star_rating\"] == 5].count()\n",
    "paid_5star"
   ]
  },
  {
   "cell_type": "code",
   "execution_count": 36,
   "id": "07805c66",
   "metadata": {},
   "outputs": [
    {
     "data": {
      "text/plain": [
       "48"
      ]
     },
     "execution_count": 36,
     "metadata": {},
     "output_type": "execute_result"
    }
   ],
   "source": [
    "paid = len(vine_reviews_paid[vine_reviews_paid['star_rating']==5])\n",
    "paid"
   ]
  },
  {
   "cell_type": "markdown",
   "id": "3bd8e375",
   "metadata": {},
   "source": [
    "### Unpaid 5 Star Review Count"
   ]
  },
  {
   "cell_type": "code",
   "execution_count": 37,
   "id": "b9691835",
   "metadata": {
    "scrolled": true
   },
   "outputs": [
    {
     "data": {
      "text/plain": [
       "review_id            15663\n",
       "star_rating          15663\n",
       "helpful_votes        15663\n",
       "total_votes          15663\n",
       "vine                 15663\n",
       "verified_purchase    15663\n",
       "dtype: int64"
      ]
     },
     "execution_count": 37,
     "metadata": {},
     "output_type": "execute_result"
    }
   ],
   "source": [
    "unpaid_5star = vine_reviews_unpaid.loc[vine_reviews_unpaid[\"star_rating\"] == 5].count()\n",
    "unpaid_5star"
   ]
  },
  {
   "cell_type": "code",
   "execution_count": 38,
   "id": "504e9920",
   "metadata": {},
   "outputs": [
    {
     "data": {
      "text/plain": [
       "15663"
      ]
     },
     "execution_count": 38,
     "metadata": {},
     "output_type": "execute_result"
    }
   ],
   "source": [
    "unpaid = len(vine_reviews_unpaid[vine_reviews_unpaid['star_rating']==5])\n",
    "unpaid"
   ]
  },
  {
   "cell_type": "markdown",
   "id": "50ad9496",
   "metadata": {},
   "source": [
    "<b> Result </b> : There were <b>48</b> paid 5-star reviews and <b>15663</b> unpaid 5-star reviews "
   ]
  },
  {
   "cell_type": "markdown",
   "id": "f4e4e889",
   "metadata": {},
   "source": [
    "## Percentage of 5-Star Reviews \n",
    "\n",
    "### Paid Percentage "
   ]
  },
  {
   "cell_type": "markdown",
   "id": "9b201933",
   "metadata": {},
   "source": [
    "Percentage of 5-star Vine(paid) review: "
   ]
  },
  {
   "cell_type": "code",
   "execution_count": 50,
   "id": "0a8311e2",
   "metadata": {
    "scrolled": true
   },
   "outputs": [
    {
     "data": {
      "text/plain": [
       "0.5106382978723404"
      ]
     },
     "execution_count": 50,
     "metadata": {},
     "output_type": "execute_result"
    }
   ],
   "source": [
    "paid/paid_review"
   ]
  },
  {
   "cell_type": "markdown",
   "id": "0ff3b9e1",
   "metadata": {},
   "source": [
    "Percentage of 5-star Non-Vine(unpaid) review: "
   ]
  },
  {
   "cell_type": "code",
   "execution_count": 51,
   "id": "9b198a36",
   "metadata": {},
   "outputs": [
    {
     "data": {
      "text/plain": [
       "0.38701786464381904"
      ]
     },
     "execution_count": 51,
     "metadata": {},
     "output_type": "execute_result"
    }
   ],
   "source": [
    "unpaid/unpaid_review"
   ]
  },
  {
   "cell_type": "markdown",
   "id": "6268c734",
   "metadata": {},
   "source": [
    "<b> Result: </b> Out of all 5-star reviews, <b> 51% were paid </b> for their 5-star reviews, while <b> 38.7% were unpaid </b> for their 5-star reviews. "
   ]
  },
  {
   "cell_type": "markdown",
   "id": "f48292fa",
   "metadata": {},
   "source": [
    "## Additional Analysis \n",
    "\n",
    "### Average Star Rating for Vine(paid) and Non-Vine(unpaid) Reviews "
   ]
  },
  {
   "cell_type": "markdown",
   "id": "48680d7f",
   "metadata": {},
   "source": [
    "1. Average Star Rating for Vine(paid) Reviews: "
   ]
  },
  {
   "cell_type": "code",
   "execution_count": 54,
   "id": "df1b527e",
   "metadata": {},
   "outputs": [
    {
     "data": {
      "text/plain": [
       "4.202127659574468"
      ]
     },
     "execution_count": 54,
     "metadata": {},
     "output_type": "execute_result"
    }
   ],
   "source": [
    "paid_star_avg = vine_reviews_paid[\"star_rating\"].mean()\n",
    "paid_star_avg"
   ]
  },
  {
   "cell_type": "markdown",
   "id": "852ccd8a",
   "metadata": {},
   "source": [
    "2. Average Star Rating for Vine(unpaid) Reviews:"
   ]
  },
  {
   "cell_type": "code",
   "execution_count": 55,
   "id": "b2a4e196",
   "metadata": {},
   "outputs": [
    {
     "data": {
      "text/plain": [
       "3.34765634651973"
      ]
     },
     "execution_count": 55,
     "metadata": {},
     "output_type": "execute_result"
    }
   ],
   "source": [
    "unpaid_star_avg = vine_reviews_unpaid[\"star_rating\"].mean()\n",
    "unpaid_star_avg"
   ]
  },
  {
   "cell_type": "markdown",
   "id": "598e0ee4",
   "metadata": {},
   "source": [
    "<b> Result: </b> The average star rating for <b> Paid Vine Reviews = 4.20 </b> and the average star rating for <b> Unpaid Vine Reviews = 3.35. </b>"
   ]
  },
  {
   "cell_type": "code",
   "execution_count": null,
   "id": "d3d15da2",
   "metadata": {},
   "outputs": [],
   "source": []
  }
 ],
 "metadata": {
  "kernelspec": {
   "display_name": "PythonData",
   "language": "python",
   "name": "pythondata"
  },
  "language_info": {
   "codemirror_mode": {
    "name": "ipython",
    "version": 3
   },
   "file_extension": ".py",
   "mimetype": "text/x-python",
   "name": "python",
   "nbconvert_exporter": "python",
   "pygments_lexer": "ipython3",
   "version": "3.9.12"
  }
 },
 "nbformat": 4,
 "nbformat_minor": 5
}
